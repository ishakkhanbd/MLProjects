{
  "nbformat": 4,
  "nbformat_minor": 0,
  "metadata": {
    "colab": {
      "provenance": []
    },
    "kernelspec": {
      "name": "python3",
      "display_name": "Python 3"
    },
    "language_info": {
      "name": "python"
    }
  },
  "cells": [
    {
      "cell_type": "code",
      "source": [
        "# ============================================\n",
        "# Brain Tumor Detection with 2 Loss Functions\n",
        "# Binary Crossentropy & Categorical Crossentropy\n",
        "# ============================================\n",
        "\n",
        "import os\n",
        "import zipfile\n",
        "import numpy as np\n",
        "import matplotlib.pyplot as plt\n",
        "from sklearn.model_selection import train_test_split\n",
        "from sklearn.metrics import classification_report, confusion_matrix\n",
        "import tensorflow as tf\n",
        "from tensorflow.keras.preprocessing.image import ImageDataGenerator\n",
        "from tensorflow.keras.utils import to_categorical\n",
        "from tensorflow.keras import layers, models\n"
      ],
      "metadata": {
        "id": "kIfXOHNEPo2x"
      },
      "execution_count": 9,
      "outputs": []
    },
    {
      "cell_type": "code",
      "source": [
        "# ==============================\n",
        "# 1. Extract dataset\n",
        "# ==============================\n",
        "from google.colab import files\n",
        "\n",
        "uploaded = files.upload()\n",
        "\n",
        "zip_path = \"/content/project4_data.zip\"   # uploaded path in Colab\n",
        "extract_dir = \"/content/data\"\n",
        "\n",
        "with zipfile.ZipFile(zip_path, 'r') as zip_ref:\n",
        "    zip_ref.extractall(extract_dir)\n",
        "\n",
        "print(\"Data extracted to:\", extract_dir)"
      ],
      "metadata": {
        "colab": {
          "base_uri": "https://localhost:8080/"
        },
        "id": "xeJvX03yPo5D",
        "outputId": "23ea95d0-8b77-4394-fa21-ba39a4a713c0"
      },
      "execution_count": 16,
      "outputs": [
        {
          "output_type": "stream",
          "name": "stdout",
          "text": [
            "Data extracted to: /content/data\n"
          ]
        }
      ]
    },
    {
      "cell_type": "code",
      "source": [
        "# ==============================\n",
        "# 2. Preprocess Images\n",
        "# ==============================\n",
        "IMG_SIZE = (128, 128)\n",
        "BATCH_SIZE = 32\n",
        "\n",
        "datagen = ImageDataGenerator(\n",
        "    rescale=1./255,\n",
        "    validation_split=0.2\n",
        ")\n"
      ],
      "metadata": {
        "id": "weLZlprRPo7B"
      },
      "execution_count": 17,
      "outputs": []
    },
    {
      "cell_type": "code",
      "source": [
        "# Binary classification generator\n",
        "train_gen_binary = datagen.flow_from_directory(\n",
        "    extract_dir,\n",
        "    target_size=IMG_SIZE,\n",
        "    batch_size=BATCH_SIZE,\n",
        "    class_mode='binary',\n",
        "    subset='training'\n",
        ")\n",
        "\n",
        "val_gen_binary = datagen.flow_from_directory(\n",
        "    extract_dir,\n",
        "    target_size=IMG_SIZE,\n",
        "    batch_size=BATCH_SIZE,\n",
        "    class_mode='binary',\n",
        "    subset='validation'\n",
        ")"
      ],
      "metadata": {
        "colab": {
          "base_uri": "https://localhost:8080/"
        },
        "id": "1kZb3bYJPo9D",
        "outputId": "ce5281aa-64b7-4ca5-a9cd-741d4ab8c642"
      },
      "execution_count": 18,
      "outputs": [
        {
          "output_type": "stream",
          "name": "stdout",
          "text": [
            "Found 3089 images belonging to 4 classes.\n",
            "Found 772 images belonging to 4 classes.\n"
          ]
        }
      ]
    },
    {
      "cell_type": "code",
      "source": [
        "# Multi-class classification generator\n",
        "train_gen_cat = datagen.flow_from_directory(\n",
        "    extract_dir,\n",
        "    target_size=IMG_SIZE,\n",
        "    batch_size=BATCH_SIZE,\n",
        "    class_mode='categorical',\n",
        "    subset='training'\n",
        ")\n",
        "\n",
        "val_gen_cat = datagen.flow_from_directory(\n",
        "    extract_dir,\n",
        "    target_size=IMG_SIZE,\n",
        "    batch_size=BATCH_SIZE,\n",
        "    class_mode='categorical',\n",
        "    subset='validation'\n",
        ")"
      ],
      "metadata": {
        "colab": {
          "base_uri": "https://localhost:8080/"
        },
        "id": "BI-kXGUyPo_O",
        "outputId": "88e4b66a-1223-4a07-9653-18d12900bda2"
      },
      "execution_count": 19,
      "outputs": [
        {
          "output_type": "stream",
          "name": "stdout",
          "text": [
            "Found 3089 images belonging to 4 classes.\n",
            "Found 772 images belonging to 4 classes.\n"
          ]
        }
      ]
    },
    {
      "cell_type": "code",
      "source": [
        "# ==============================\n",
        "# 3. Define CNN Models\n",
        "# ==============================\n",
        "def build_cnn_binary():\n",
        "    model = models.Sequential([\n",
        "        layers.Conv2D(32, (3,3), activation='relu', input_shape=(*IMG_SIZE, 3)),\n",
        "        layers.MaxPooling2D(2,2),\n",
        "        layers.Conv2D(64, (3,3), activation='relu'),\n",
        "        layers.MaxPooling2D(2,2),\n",
        "        layers.Conv2D(128, (3,3), activation='relu'),\n",
        "        layers.MaxPooling2D(2,2),\n",
        "        layers.Flatten(),\n",
        "        layers.Dense(128, activation='relu'),\n",
        "        layers.Dense(1, activation='sigmoid')  # binary\n",
        "    ])\n",
        "    model.compile(optimizer='adam', loss='binary_crossentropy', metrics=['accuracy'])\n",
        "    return model\n",
        "\n",
        "def build_cnn_categorical(num_classes):\n",
        "    model = models.Sequential([\n",
        "        layers.Conv2D(32, (3,3), activation='relu', input_shape=(*IMG_SIZE, 3)),\n",
        "        layers.MaxPooling2D(2,2),\n",
        "        layers.Conv2D(64, (3,3), activation='relu'),\n",
        "        layers.MaxPooling2D(2,2),\n",
        "        layers.Conv2D(128, (3,3), activation='relu'),\n",
        "        layers.MaxPooling2D(2,2),\n",
        "        layers.Flatten(),\n",
        "        layers.Dense(128, activation='relu'),\n",
        "        layers.Dense(num_classes, activation='softmax')  # multi-class\n",
        "    ])\n",
        "    model.compile(optimizer='adam', loss='categorical_crossentropy', metrics=['accuracy'])\n",
        "    return model"
      ],
      "metadata": {
        "id": "Sd6sxrXuPpCd"
      },
      "execution_count": 20,
      "outputs": []
    },
    {
      "cell_type": "code",
      "source": [
        "# ==============================\n",
        "# 4. Train Models\n",
        "# ==============================\n",
        "print(\"\\n=== Training Binary Crossentropy Model ===\")\n",
        "binary_model = build_cnn_binary()\n",
        "history_bin = binary_model.fit(\n",
        "    train_gen_binary,\n",
        "    validation_data=val_gen_binary,\n",
        "    epochs=10\n",
        ")\n",
        "\n",
        "print(\"\\n=== Training Categorical Crossentropy Model ===\")\n",
        "num_classes = train_gen_cat.num_classes\n",
        "cat_model = build_cnn_categorical(num_classes)\n",
        "history_cat = cat_model.fit(\n",
        "    train_gen_cat,\n",
        "    validation_data=val_gen_cat,\n",
        "    epochs=10\n",
        ")"
      ],
      "metadata": {
        "colab": {
          "base_uri": "https://localhost:8080/"
        },
        "id": "GL6jlfkmPpFx",
        "outputId": "6b54d39d-9ff1-410b-e061-a1a321e5a94a"
      },
      "execution_count": 21,
      "outputs": [
        {
          "output_type": "stream",
          "name": "stdout",
          "text": [
            "\n",
            "=== Training Binary Crossentropy Model ===\n"
          ]
        },
        {
          "output_type": "stream",
          "name": "stderr",
          "text": [
            "/usr/local/lib/python3.12/dist-packages/keras/src/layers/convolutional/base_conv.py:113: UserWarning: Do not pass an `input_shape`/`input_dim` argument to a layer. When using Sequential models, prefer using an `Input(shape)` object as the first layer in the model instead.\n",
            "  super().__init__(activity_regularizer=activity_regularizer, **kwargs)\n",
            "/usr/local/lib/python3.12/dist-packages/keras/src/trainers/data_adapters/py_dataset_adapter.py:121: UserWarning: Your `PyDataset` class should call `super().__init__(**kwargs)` in its constructor. `**kwargs` can include `workers`, `use_multiprocessing`, `max_queue_size`. Do not pass these arguments to `fit()`, as they will be ignored.\n",
            "  self._warn_if_super_not_called()\n"
          ]
        },
        {
          "output_type": "stream",
          "name": "stdout",
          "text": [
            "Epoch 1/10\n",
            "\u001b[1m97/97\u001b[0m \u001b[32m━━━━━━━━━━━━━━━━━━━━\u001b[0m\u001b[37m\u001b[0m \u001b[1m118s\u001b[0m 1s/step - accuracy: 0.3709 - loss: -3275781.7500 - val_accuracy: 0.3886 - val_loss: -146513424.0000\n",
            "Epoch 2/10\n",
            "\u001b[1m97/97\u001b[0m \u001b[32m━━━━━━━━━━━━━━━━━━━━\u001b[0m\u001b[37m\u001b[0m \u001b[1m106s\u001b[0m 1s/step - accuracy: 0.3843 - loss: -1255806208.0000 - val_accuracy: 0.3886 - val_loss: -12652858368.0000\n",
            "Epoch 3/10\n",
            "\u001b[1m97/97\u001b[0m \u001b[32m━━━━━━━━━━━━━━━━━━━━\u001b[0m\u001b[37m\u001b[0m \u001b[1m105s\u001b[0m 1s/step - accuracy: 0.3872 - loss: -33601888256.0000 - val_accuracy: 0.3886 - val_loss: -151187193856.0000\n",
            "Epoch 4/10\n",
            "\u001b[1m97/97\u001b[0m \u001b[32m━━━━━━━━━━━━━━━━━━━━\u001b[0m\u001b[37m\u001b[0m \u001b[1m103s\u001b[0m 1s/step - accuracy: 0.3841 - loss: -294268469248.0000 - val_accuracy: 0.3886 - val_loss: -795353939968.0000\n",
            "Epoch 5/10\n",
            "\u001b[1m97/97\u001b[0m \u001b[32m━━━━━━━━━━━━━━━━━━━━\u001b[0m\u001b[37m\u001b[0m \u001b[1m101s\u001b[0m 1s/step - accuracy: 0.3966 - loss: -1235894927360.0000 - val_accuracy: 0.3886 - val_loss: -2753568964608.0000\n",
            "Epoch 6/10\n",
            "\u001b[1m97/97\u001b[0m \u001b[32m━━━━━━━━━━━━━━━━━━━━\u001b[0m\u001b[37m\u001b[0m \u001b[1m106s\u001b[0m 1s/step - accuracy: 0.3817 - loss: -4207538601984.0000 - val_accuracy: 0.3886 - val_loss: -7281498914816.0000\n",
            "Epoch 7/10\n",
            "\u001b[1m97/97\u001b[0m \u001b[32m━━━━━━━━━━━━━━━━━━━━\u001b[0m\u001b[37m\u001b[0m \u001b[1m105s\u001b[0m 1s/step - accuracy: 0.3807 - loss: -10874309836800.0000 - val_accuracy: 0.3886 - val_loss: -16108300009472.0000\n",
            "Epoch 8/10\n",
            "\u001b[1m97/97\u001b[0m \u001b[32m━━━━━━━━━━━━━━━━━━━━\u001b[0m\u001b[37m\u001b[0m \u001b[1m105s\u001b[0m 1s/step - accuracy: 0.3804 - loss: -22797371834368.0000 - val_accuracy: 0.3886 - val_loss: -31732589920256.0000\n",
            "Epoch 9/10\n",
            "\u001b[1m97/97\u001b[0m \u001b[32m━━━━━━━━━━━━━━━━━━━━\u001b[0m\u001b[37m\u001b[0m \u001b[1m105s\u001b[0m 1s/step - accuracy: 0.3991 - loss: -42660777689088.0000 - val_accuracy: 0.3886 - val_loss: -57157294751744.0000\n",
            "Epoch 10/10\n",
            "\u001b[1m97/97\u001b[0m \u001b[32m━━━━━━━━━━━━━━━━━━━━\u001b[0m\u001b[37m\u001b[0m \u001b[1m107s\u001b[0m 1s/step - accuracy: 0.4024 - loss: -69648179527680.0000 - val_accuracy: 0.3886 - val_loss: -95820200280064.0000\n",
            "\n",
            "=== Training Categorical Crossentropy Model ===\n",
            "Epoch 1/10\n",
            "\u001b[1m97/97\u001b[0m \u001b[32m━━━━━━━━━━━━━━━━━━━━\u001b[0m\u001b[37m\u001b[0m \u001b[1m108s\u001b[0m 1s/step - accuracy: 0.5087 - loss: 1.0766 - val_accuracy: 0.6386 - val_loss: 0.9176\n",
            "Epoch 2/10\n",
            "\u001b[1m97/97\u001b[0m \u001b[32m━━━━━━━━━━━━━━━━━━━━\u001b[0m\u001b[37m\u001b[0m \u001b[1m105s\u001b[0m 1s/step - accuracy: 0.6667 - loss: 0.7131 - val_accuracy: 0.6891 - val_loss: 0.8999\n",
            "Epoch 3/10\n",
            "\u001b[1m97/97\u001b[0m \u001b[32m━━━━━━━━━━━━━━━━━━━━\u001b[0m\u001b[37m\u001b[0m \u001b[1m108s\u001b[0m 1s/step - accuracy: 0.6780 - loss: 0.6505 - val_accuracy: 0.7202 - val_loss: 0.7867\n",
            "Epoch 4/10\n",
            "\u001b[1m97/97\u001b[0m \u001b[32m━━━━━━━━━━━━━━━━━━━━\u001b[0m\u001b[37m\u001b[0m \u001b[1m107s\u001b[0m 1s/step - accuracy: 0.7492 - loss: 0.5051 - val_accuracy: 0.7578 - val_loss: 0.5950\n",
            "Epoch 5/10\n",
            "\u001b[1m97/97\u001b[0m \u001b[32m━━━━━━━━━━━━━━━━━━━━\u001b[0m\u001b[37m\u001b[0m \u001b[1m108s\u001b[0m 1s/step - accuracy: 0.7473 - loss: 0.4547 - val_accuracy: 0.7604 - val_loss: 0.7123\n",
            "Epoch 6/10\n",
            "\u001b[1m97/97\u001b[0m \u001b[32m━━━━━━━━━━━━━━━━━━━━\u001b[0m\u001b[37m\u001b[0m \u001b[1m139s\u001b[0m 1s/step - accuracy: 0.7592 - loss: 0.4254 - val_accuracy: 0.7578 - val_loss: 0.7364\n",
            "Epoch 7/10\n",
            "\u001b[1m97/97\u001b[0m \u001b[32m━━━━━━━━━━━━━━━━━━━━\u001b[0m\u001b[37m\u001b[0m \u001b[1m144s\u001b[0m 1s/step - accuracy: 0.7623 - loss: 0.3903 - val_accuracy: 0.7332 - val_loss: 0.5606\n",
            "Epoch 8/10\n",
            "\u001b[1m97/97\u001b[0m \u001b[32m━━━━━━━━━━━━━━━━━━━━\u001b[0m\u001b[37m\u001b[0m \u001b[1m107s\u001b[0m 1s/step - accuracy: 0.7721 - loss: 0.3855 - val_accuracy: 0.7655 - val_loss: 0.8535\n",
            "Epoch 9/10\n",
            "\u001b[1m97/97\u001b[0m \u001b[32m━━━━━━━━━━━━━━━━━━━━\u001b[0m\u001b[37m\u001b[0m \u001b[1m109s\u001b[0m 1s/step - accuracy: 0.7675 - loss: 0.3836 - val_accuracy: 0.7630 - val_loss: 0.8119\n",
            "Epoch 10/10\n",
            "\u001b[1m97/97\u001b[0m \u001b[32m━━━━━━━━━━━━━━━━━━━━\u001b[0m\u001b[37m\u001b[0m \u001b[1m106s\u001b[0m 1s/step - accuracy: 0.7797 - loss: 0.3604 - val_accuracy: 0.7642 - val_loss: 0.6514\n"
          ]
        }
      ]
    },
    {
      "cell_type": "code",
      "source": [
        "# ==============================\n",
        "# 5. Evaluate Models\n",
        "# ==============================\n",
        "def evaluate_model(model, val_gen, model_type=\"Binary\"):\n",
        "    val_gen.reset()\n",
        "    preds = model.predict(val_gen)\n",
        "\n",
        "    if model_type == \"Binary\":\n",
        "        y_pred = (preds > 0.5).astype(int).ravel()\n",
        "        y_true = val_gen.classes\n",
        "    else:\n",
        "        y_pred = np.argmax(preds, axis=1)\n",
        "        y_true = val_gen.classes\n",
        "\n",
        "    print(f\"\\n=== {model_type} Model Report ===\")\n",
        "    print(classification_report(y_true, y_pred, target_names=list(val_gen.class_indices.keys())))\n",
        "    print(\"Confusion Matrix:\\n\", confusion_matrix(y_true, y_pred))"
      ],
      "metadata": {
        "id": "T_KzDk8pPpH5"
      },
      "execution_count": 22,
      "outputs": []
    },
    {
      "cell_type": "code",
      "source": [
        "# Evaluate Binary\n",
        "evaluate_model(binary_model, val_gen_binary, \"Binary\")"
      ],
      "metadata": {
        "colab": {
          "base_uri": "https://localhost:8080/"
        },
        "id": "wODYMY4SPpJw",
        "outputId": "adae091d-d9ee-4758-b34f-2a85304b0ec7"
      },
      "execution_count": 23,
      "outputs": [
        {
          "output_type": "stream",
          "name": "stdout",
          "text": [
            "\u001b[1m25/25\u001b[0m \u001b[32m━━━━━━━━━━━━━━━━━━━━\u001b[0m\u001b[37m\u001b[0m \u001b[1m7s\u001b[0m 278ms/step\n",
            "\n",
            "=== Binary Model Report ===\n",
            "                 precision    recall  f1-score   support\n",
            "\n",
            "Br35H-Mask-RCNN       0.00      0.00      0.00       160\n",
            "             no       0.39      1.00      0.56       300\n",
            "           pred       0.00      0.00      0.00        12\n",
            "            yes       0.00      0.00      0.00       300\n",
            "\n",
            "       accuracy                           0.39       772\n",
            "      macro avg       0.10      0.25      0.14       772\n",
            "   weighted avg       0.15      0.39      0.22       772\n",
            "\n",
            "Confusion Matrix:\n",
            " [[  0 160   0   0]\n",
            " [  0 300   0   0]\n",
            " [  0  12   0   0]\n",
            " [  0 300   0   0]]\n"
          ]
        },
        {
          "output_type": "stream",
          "name": "stderr",
          "text": [
            "/usr/local/lib/python3.12/dist-packages/sklearn/metrics/_classification.py:1565: UndefinedMetricWarning: Precision is ill-defined and being set to 0.0 in labels with no predicted samples. Use `zero_division` parameter to control this behavior.\n",
            "  _warn_prf(average, modifier, f\"{metric.capitalize()} is\", len(result))\n",
            "/usr/local/lib/python3.12/dist-packages/sklearn/metrics/_classification.py:1565: UndefinedMetricWarning: Precision is ill-defined and being set to 0.0 in labels with no predicted samples. Use `zero_division` parameter to control this behavior.\n",
            "  _warn_prf(average, modifier, f\"{metric.capitalize()} is\", len(result))\n",
            "/usr/local/lib/python3.12/dist-packages/sklearn/metrics/_classification.py:1565: UndefinedMetricWarning: Precision is ill-defined and being set to 0.0 in labels with no predicted samples. Use `zero_division` parameter to control this behavior.\n",
            "  _warn_prf(average, modifier, f\"{metric.capitalize()} is\", len(result))\n"
          ]
        }
      ]
    },
    {
      "cell_type": "code",
      "source": [
        "# Evaluate Categorical\n",
        "evaluate_model(cat_model, val_gen_cat, \"Categorical\")"
      ],
      "metadata": {
        "colab": {
          "base_uri": "https://localhost:8080/"
        },
        "id": "9OhYhZ6jPpLo",
        "outputId": "b4e1f2ae-46a8-44c7-ad8e-595a2892deac"
      },
      "execution_count": 24,
      "outputs": [
        {
          "output_type": "stream",
          "name": "stdout",
          "text": [
            "\u001b[1m25/25\u001b[0m \u001b[32m━━━━━━━━━━━━━━━━━━━━\u001b[0m\u001b[37m\u001b[0m \u001b[1m8s\u001b[0m 316ms/step\n",
            "\n",
            "=== Categorical Model Report ===\n",
            "                 precision    recall  f1-score   support\n",
            "\n",
            "Br35H-Mask-RCNN       0.86      0.04      0.07       160\n",
            "             no       0.39      0.39      0.39       300\n",
            "           pred       0.00      0.00      0.00        12\n",
            "            yes       0.38      0.58      0.46       300\n",
            "\n",
            "       accuracy                           0.39       772\n",
            "      macro avg       0.41      0.25      0.23       772\n",
            "   weighted avg       0.48      0.39      0.35       772\n",
            "\n",
            "Confusion Matrix:\n",
            " [[  6  56   1  97]\n",
            " [  0 118   0 182]\n",
            " [  0   5   0   7]\n",
            " [  1 124   0 175]]\n"
          ]
        }
      ]
    },
    {
      "cell_type": "code",
      "source": [],
      "metadata": {
        "id": "v7BO4cg4PpNT"
      },
      "execution_count": null,
      "outputs": []
    },
    {
      "cell_type": "code",
      "source": [],
      "metadata": {
        "id": "KL5ZaIqAPpPd"
      },
      "execution_count": null,
      "outputs": []
    },
    {
      "cell_type": "code",
      "source": [],
      "metadata": {
        "id": "wo5hBlaoPpSh"
      },
      "execution_count": null,
      "outputs": []
    },
    {
      "cell_type": "code",
      "source": [],
      "metadata": {
        "id": "w5SxW9CWPpUb"
      },
      "execution_count": null,
      "outputs": []
    },
    {
      "cell_type": "code",
      "source": [],
      "metadata": {
        "id": "K69JIScCPpWS"
      },
      "execution_count": null,
      "outputs": []
    },
    {
      "cell_type": "code",
      "source": [],
      "metadata": {
        "id": "3lmlF2mfPpZn"
      },
      "execution_count": null,
      "outputs": []
    },
    {
      "cell_type": "code",
      "source": [],
      "metadata": {
        "id": "JbTNvhmMPpcp"
      },
      "execution_count": null,
      "outputs": []
    },
    {
      "cell_type": "code",
      "source": [],
      "metadata": {
        "id": "0mV2w0soPpfC"
      },
      "execution_count": null,
      "outputs": []
    },
    {
      "cell_type": "code",
      "source": [],
      "metadata": {
        "id": "kTB1TwSjPphp"
      },
      "execution_count": null,
      "outputs": []
    },
    {
      "cell_type": "code",
      "source": [],
      "metadata": {
        "id": "iefqKRkuPpj6"
      },
      "execution_count": null,
      "outputs": []
    },
    {
      "cell_type": "code",
      "source": [],
      "metadata": {
        "id": "JGma-li4Ppn3"
      },
      "execution_count": null,
      "outputs": []
    },
    {
      "cell_type": "code",
      "source": [],
      "metadata": {
        "id": "3jcOAGK_PpuB"
      },
      "execution_count": null,
      "outputs": []
    },
    {
      "cell_type": "code",
      "source": [],
      "metadata": {
        "id": "M6PXstJIPpwT"
      },
      "execution_count": null,
      "outputs": []
    },
    {
      "cell_type": "code",
      "source": [],
      "metadata": {
        "id": "12IL00dsPpyd"
      },
      "execution_count": null,
      "outputs": []
    },
    {
      "cell_type": "code",
      "source": [],
      "metadata": {
        "id": "TM0dFqRxPpz-"
      },
      "execution_count": null,
      "outputs": []
    },
    {
      "cell_type": "code",
      "source": [],
      "metadata": {
        "id": "69JQ2a09Pp2Y"
      },
      "execution_count": null,
      "outputs": []
    },
    {
      "cell_type": "code",
      "source": [],
      "metadata": {
        "id": "SocrplgBPp5W"
      },
      "execution_count": null,
      "outputs": []
    },
    {
      "cell_type": "code",
      "source": [],
      "metadata": {
        "id": "LIywgLymPp7d"
      },
      "execution_count": null,
      "outputs": []
    },
    {
      "cell_type": "code",
      "source": [],
      "metadata": {
        "id": "gSWqkhmaPp-j"
      },
      "execution_count": null,
      "outputs": []
    },
    {
      "cell_type": "code",
      "source": [],
      "metadata": {
        "id": "DABV1vjBPqA0"
      },
      "execution_count": null,
      "outputs": []
    },
    {
      "cell_type": "code",
      "source": [],
      "metadata": {
        "id": "Qht7vtg7PqDK"
      },
      "execution_count": null,
      "outputs": []
    },
    {
      "cell_type": "code",
      "source": [],
      "metadata": {
        "id": "0qSSLmdXPqGb"
      },
      "execution_count": null,
      "outputs": []
    },
    {
      "cell_type": "code",
      "source": [],
      "metadata": {
        "id": "wYLIx07LPqI-"
      },
      "execution_count": null,
      "outputs": []
    },
    {
      "cell_type": "code",
      "source": [],
      "metadata": {
        "id": "aerDVTHCPqLQ"
      },
      "execution_count": null,
      "outputs": []
    },
    {
      "cell_type": "code",
      "source": [],
      "metadata": {
        "id": "BKgY0-3mPqNH"
      },
      "execution_count": null,
      "outputs": []
    },
    {
      "cell_type": "code",
      "source": [],
      "metadata": {
        "id": "2aC9iUcQPqPN"
      },
      "execution_count": null,
      "outputs": []
    },
    {
      "cell_type": "code",
      "source": [],
      "metadata": {
        "id": "A6VM8MdKPqRE"
      },
      "execution_count": null,
      "outputs": []
    }
  ]
}